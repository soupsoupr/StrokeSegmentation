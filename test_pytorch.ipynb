{
  "nbformat": 4,
  "nbformat_minor": 0,
  "metadata": {
    "colab": {
      "provenance": [],
      "toc_visible": true,
      "collapsed_sections": [
        "7u23p2WAV8PH",
        "hQq-4U2QKLJi",
        "Cerczd_qWI1T"
      ],
      "authorship_tag": "ABX9TyPoq4qhW53oK/LYarsVln/f",
      "include_colab_link": true
    },
    "kernelspec": {
      "name": "python3",
      "display_name": "Python 3"
    },
    "language_info": {
      "name": "python"
    }
  },
  "cells": [
    {
      "cell_type": "markdown",
      "metadata": {
        "id": "view-in-github",
        "colab_type": "text"
      },
      "source": [
        "<a href=\"https://colab.research.google.com/github/soupsoupr/StrokeSegmentation/blob/main/test_pytorch.ipynb\" target=\"_parent\"><img src=\"https://colab.research.google.com/assets/colab-badge.svg\" alt=\"Open In Colab\"/></a>"
      ]
    },
    {
      "cell_type": "markdown",
      "source": [
        "# Load data"
      ],
      "metadata": {
        "id": "o5YeIiPEuBld"
      }
    },
    {
      "cell_type": "code",
      "execution_count": 763,
      "metadata": {
        "colab": {
          "base_uri": "https://localhost:8080/"
        },
        "id": "lZjEERhtty-n",
        "outputId": "dd373cb6-16a3-497b-aee5-eb6f7b84a08e"
      },
      "outputs": [
        {
          "output_type": "stream",
          "name": "stdout",
          "text": [
            "Drive already mounted at /content/drive; to attempt to forcibly remount, call drive.mount(\"/content/drive\", force_remount=True).\n"
          ]
        }
      ],
      "source": [
        "from google.colab import drive\n",
        "drive.mount('/content/drive')"
      ]
    },
    {
      "cell_type": "code",
      "source": [
        "import nibabel as nib\n",
        "import os\n",
        "# Set the file path to the directory containing the DWI data files\n",
        "file_path = '/content/drive/MyDrive/ISLES/dataset-ISLES22^public^unzipped^version'\n",
        "\n",
        "for example_case in range(1,11): # for the first 10 data from ISLES22\n",
        "    # Set images path.\n",
        "    dwi_path = os.path.join(file_path, 'rawdata', 'sub-strokecase{}'.format(\"%04d\" %example_case), 'ses-0001',\n",
        "                            'sub-strokecase{}_ses-0001_dwi.nii.gz'.format(\"%04d\" %example_case))\n",
        "    mask_path = dwi_path.replace('rawdata', 'derivatives').replace('dwi', 'msk')\n",
        "\n",
        "# Load image data.\n",
        "dwi_data = []\n",
        "mask_data = []\n",
        "\n",
        "dwi_data = nib.load(dwi_path).get_fdata()\n",
        "mask_data = nib.load(mask_path).get_fdata()"
      ],
      "metadata": {
        "id": "FS2vQ0GpuFu3"
      },
      "execution_count": 764,
      "outputs": []
    },
    {
      "cell_type": "code",
      "source": [
        "import numpy as np\n",
        "import cv2\n",
        "\n",
        "# Duplicate both dwi and label data into two new lists for future process\n",
        "data_paths = []\n",
        "mask_paths = []\n",
        "\n",
        "for i in dwi_data:\n",
        "    data_paths.append(i)\n",
        "\n",
        "for i in mask_data:\n",
        "    mask_paths.append(i)"
      ],
      "metadata": {
        "id": "MPtFZHvjHtbf"
      },
      "execution_count": 765,
      "outputs": []
    },
    {
      "cell_type": "markdown",
      "source": [
        "check the data size"
      ],
      "metadata": {
        "id": "89c3qNSIita2"
      }
    },
    {
      "cell_type": "code",
      "source": [
        "print(mask_data[0].shape)"
      ],
      "metadata": {
        "colab": {
          "base_uri": "https://localhost:8080/"
        },
        "id": "N99ZXhMLhvvi",
        "outputId": "fe40155b-959c-4c15-843b-f28891461583"
      },
      "execution_count": 766,
      "outputs": [
        {
          "output_type": "stream",
          "name": "stdout",
          "text": [
            "(112, 72)\n"
          ]
        }
      ]
    },
    {
      "cell_type": "code",
      "source": [
        "# Select the slice you want to display from the top view (e.g., middle slice)\n",
        "slice_index = dwi_data.shape[2] // 2\n",
        "\n",
        "# Extract the 2D slice from the 3D volume\n",
        "top_view_slice = dwi_data[:, :, slice_index]\n",
        "\n",
        "# Create a figure and display the top view slice\n",
        "plt.figure(figsize=(2, 2))\n",
        "plt.imshow(top_view_slice, cmap='gray')\n",
        "plt.title('Top View Slice of DWI Data')\n",
        "\n",
        "# Show the plot\n",
        "plt.show()"
      ],
      "metadata": {
        "colab": {
          "base_uri": "https://localhost:8080/",
          "height": 237
        },
        "id": "xkEUvcRZnOLD",
        "outputId": "d2db5382-6106-47db-b07a-66a116644460"
      },
      "execution_count": 832,
      "outputs": [
        {
          "output_type": "display_data",
          "data": {
            "text/plain": [
              "<Figure size 200x200 with 1 Axes>"
            ],
            "image/png": "[encoded data removed]"
          },
          "metadata": {}
        }
      ]
    },
    {
      "cell_type": "markdown",
      "source": [
        "# Import Libraries"
      ],
      "metadata": {
        "id": "wAZ8ecwnTWo4"
      }
    },
    {
      "cell_type": "code",
      "source": [
        "from PIL import Image\n",
        "from matplotlib import pyplot as plt\n",
        "\n",
        "from sklearn.model_selection import train_test_split\n",
        "\n",
        "import torch\n",
        "import torch.nn as nn\n",
        "import torch.optim as optim\n",
        "import torch.nn.functional as F\n",
        "from torch.utils.data import Dataset, DataLoader\n",
        "from torchvision import transforms"
      ],
      "metadata": {
        "id": "MJW_EjzWwmke"
      },
      "execution_count": 767,
      "outputs": []
    },
    {
      "cell_type": "markdown",
      "source": [
        "# Define a custom PyTorch dataset"
      ],
      "metadata": {
        "id": "5srumgFaTrBH"
      }
    },
    {
      "cell_type": "code",
      "source": [
        "class CustomDataset(Dataset):\n",
        "    def __init__ (self, img, mask, transformer):\n",
        "        self.img = img\n",
        "        self.mask = mask\n",
        "        self.transformer = transformer\n",
        "\n",
        "    def __len__ (self):\n",
        "        return len(self.img)\n",
        "\n",
        "    def __getitem__ (self, index):\n",
        "        img_name = self.img[index]\n",
        "        mask_name = self.mask[index]\n",
        "\n",
        "        img_open = Image.fromarray(img_name)\n",
        "        img = self.transformer(img_open)\n",
        "\n",
        "        mask_open = Image.fromarray(mask_name)\n",
        "        mask = self.transformer(mask_open)\n",
        "\n",
        "        # mask = mask.unsqueeze(1)  # Add a channel dimension\n",
        "\n",
        "        return img, mask"
      ],
      "metadata": {
        "id": "1JBo1TJ11hRq"
      },
      "execution_count": 769,
      "outputs": []
    },
    {
      "cell_type": "markdown",
      "source": [
        "# Data preprocessing and augmentation"
      ],
      "metadata": {
        "id": "vVFG6axXTt7P"
      }
    },
    {
      "cell_type": "code",
      "source": [
        "train_transformer = transforms.Compose([\n",
        "    # transforms.Resize((256,256)),\n",
        "    transforms.ToTensor(),\n",
        "    transforms.Normalize(mean=(0.5), std=(0.5))\n",
        "])\n",
        "\n",
        "test_transformer = transforms.Compose([\n",
        "    # transforms.Resize((256,256)),\n",
        "    transforms.ToTensor(),\n",
        "    transforms.Normalize(mean=(0.5), std=(0.5))\n",
        "])"
      ],
      "metadata": {
        "id": "43VKTVHtxfbh"
      },
      "execution_count": 813,
      "outputs": []
    },
    {
      "cell_type": "markdown",
      "source": [
        "# Split dataset into training and testing sets"
      ],
      "metadata": {
        "id": "dwjWIy2uU3Pi"
      }
    },
    {
      "cell_type": "code",
      "source": [
        "train_files, test_files = train_test_split(data_paths, test_size=0.2, random_state=42)"
      ],
      "metadata": {
        "id": "E-4cFm4soy-O"
      },
      "execution_count": 771,
      "outputs": []
    },
    {
      "cell_type": "code",
      "source": [
        "# Train and test sets initalization\n",
        "train_dataset = CustomDataset(data_paths, mask_paths, train_transformer)\n",
        "test_dataset = CustomDataset(data_paths, mask_paths, test_transformer)"
      ],
      "metadata": {
        "id": "o25fzc2N9AFD"
      },
      "execution_count": 772,
      "outputs": []
    },
    {
      "cell_type": "markdown",
      "source": [
        "# Create data loaders"
      ],
      "metadata": {
        "id": "RxLSOARyVFF3"
      }
    },
    {
      "cell_type": "code",
      "source": [
        "# Train and test set data loaders initalization\n",
        "train_loader = DataLoader(train_dataset, batch_size=1, shuffle=True)\n",
        "test_loader = DataLoader(test_dataset, batch_size=1, shuffle=True)"
      ],
      "metadata": {
        "id": "H7JHXFUP-PjD"
      },
      "execution_count": 773,
      "outputs": []
    },
    {
      "cell_type": "markdown",
      "source": [
        "Compare image and mask"
      ],
      "metadata": {
        "id": "uyBX3ztTVSUB"
      }
    },
    {
      "cell_type": "code",
      "source": [
        "# Iterate through the data loader\n",
        "for batch_idx, (image, mask) in enumerate(train_loader):\n",
        "\n",
        "    print(f'DWI image shape: {image.shape}')\n",
        "    print(f'Mask shape: {mask.shape}')\n",
        "\n",
        "    # Select the slice you want to display from the top view (middle slice)\n",
        "    slice_index = image.shape[2] // 2\n",
        "\n",
        "    # Extract the 2D slice from the 3D volume for both image and mask\n",
        "    # Assuming grayscale, remove the last dimension\n",
        "    top_view_dwi_slice = image[:, :, slice_index, 0]\n",
        "    top_view_mask_slice = mask[:, :, slice_index, 0]\n",
        "\n",
        "    # Create a figure with subplots for the image and mask\n",
        "    plt.figure(figsize=(4, 2))  # Adjust the figure size as needed\n",
        "\n",
        "    # Display the DWI image\n",
        "    plt.subplot(1, 2, 1)\n",
        "    plt.imshow(top_view_dwi_slice, cmap='gray')  # Use an appropriate colormap\n",
        "    plt.title('DWI Image')\n",
        "\n",
        "    # Display the corresponding mask\n",
        "    plt.subplot(1, 2, 2)\n",
        "    plt.imshow(top_view_mask_slice, cmap='copper')  # Use an appropriate colormap\n",
        "    plt.title('Mask')\n",
        "\n",
        "    # Show the plot for this image-mask pair\n",
        "    plt.show()\n",
        "\n",
        "    # Optionally, break the loop after displaying the first pair\n",
        "    # (remove if you want to display all pairs)\n",
        "    break"
      ],
      "metadata": {
        "colab": {
          "base_uri": "https://localhost:8080/",
          "height": 258
        },
        "id": "z7Dh4fFKo-pt",
        "outputId": "672da069-20e4-442a-b2fb-6377c03514fc"
      },
      "execution_count": 878,
      "outputs": [
        {
          "output_type": "stream",
          "name": "stdout",
          "text": [
            "DWI image shape: torch.Size([1, 1, 112, 72])\n",
            "Mask shape: torch.Size([1, 1, 112, 72])\n"
          ]
        },
        {
          "output_type": "display_data",
          "data": {
            "text/plain": [
              "<Figure size 400x200 with 2 Axes>"
            ],
            "image/png": "[encoded data removed]"
          },
          "metadata": {}
        }
      ]
    },
    {
      "cell_type": "code",
      "source": [
        "data, label = next(iter(train_loader))\n",
        "plt.figure(figsize=(4,2))\n",
        "for i, (data, label) in enumerate(zip(data[:2], label[:2])):\n",
        "    data = data.permute(1,2,0).numpy()\n",
        "    label = label.permute(1,2,0).numpy()\n",
        "    plt.subplot(1,2,1)\n",
        "    plt.imshow(data, cmap='gray')\n",
        "    plt.subplot(1,2,2)\n",
        "    plt.imshow(label, cmap='copper')"
      ],
      "metadata": {
        "id": "VO6AnsPlLAL5",
        "colab": {
          "base_uri": "https://localhost:8080/",
          "height": 219
        },
        "outputId": "09dacf06-fe35-4705-899f-a7f763343de0"
      },
      "execution_count": 871,
      "outputs": [
        {
          "output_type": "display_data",
          "data": {
            "text/plain": [
              "<Figure size 400x200 with 2 Axes>"
            ],
            "image/png": "[encoded data removed]"
          },
          "metadata": {}
        }
      ]
    },
    {
      "cell_type": "code",
      "source": [
        "# Display image and label.\n",
        "train_images, train_labels = next(iter(train_loader))\n",
        "print(f\"Images batch shape: {train_images.size()}\")\n",
        "print(f\"Labels batch shape: {train_labels.size()}\")\n",
        "# plt.figure(figsize=(2,2))\n",
        "# image = train_images[0].squeeze()\n",
        "# label = train_labels[0]\n",
        "# plt.imshow(image, cmap=\"gray\")\n",
        "# plt.show()\n",
        "# print(f\"Label: {label}\")"
      ],
      "metadata": {
        "colab": {
          "base_uri": "https://localhost:8080/"
        },
        "id": "HM5lHJx9aUBw",
        "outputId": "aa94388c-a2d1-463b-9ade-cad43e507242"
      },
      "execution_count": 873,
      "outputs": [
        {
          "output_type": "stream",
          "name": "stdout",
          "text": [
            "Images batch shape: torch.Size([1, 1, 112, 72])\n",
            "Labels batch shape: torch.Size([1, 1, 112, 72])\n"
          ]
        }
      ]
    },
    {
      "cell_type": "markdown",
      "source": [
        "# Define a U-Net architecture for segmentation"
      ],
      "metadata": {
        "id": "_gSNk_KXOXp6"
      }
    },
    {
      "cell_type": "code",
      "source": [
        "class UNet(nn.Module):\n",
        "    def __init__(self, in_channels, out_channels):\n",
        "        super(UNet, self).__init__()\n",
        "\n",
        "        # Encoder\n",
        "        self.encoder = nn.Sequential(\n",
        "            nn.Conv2d(in_channels, 64, kernel_size=3, padding=1),\n",
        "            nn.ReLU(inplace=True),\n",
        "            nn.MaxPool2d(kernel_size=2, stride=2)\n",
        "        )\n",
        "\n",
        "        # Bottleneck\n",
        "        self.bottleneck = nn.Sequential(\n",
        "            nn.Conv2d(64, 128, kernel_size=3, padding=1),\n",
        "            nn.ReLU(inplace=True)\n",
        "        )\n",
        "\n",
        "        # Decoder\n",
        "        self.decoder = nn.Sequential(\n",
        "            nn.ConvTranspose2d(128, 64, kernel_size=2, stride=2),\n",
        "            nn.ReLU(inplace=True),\n",
        "            nn.Conv2d(64, out_channels, kernel_size=3, padding=1)\n",
        "        )\n",
        "\n",
        "    def forward(self, x):\n",
        "        x1 = self.encoder(x)\n",
        "        x2 = self.bottleneck(x1)\n",
        "        x3 = self.decoder(x2)\n",
        "        return x3"
      ],
      "metadata": {
        "id": "pwFAEZAZJXgF"
      },
      "execution_count": 776,
      "outputs": []
    },
    {
      "cell_type": "code",
      "source": [
        "in_channels = 1    # Number of input channels\n",
        "out_channels = 1   # Number of output channels (binary segmentation)\n",
        "model = UNet(in_channels, out_channels)"
      ],
      "metadata": {
        "id": "kPPsI7HORZ2T"
      },
      "execution_count": 777,
      "outputs": []
    },
    {
      "cell_type": "markdown",
      "source": [
        "# Define loss and optimizer"
      ],
      "metadata": {
        "id": "7u23p2WAV8PH"
      }
    },
    {
      "cell_type": "code",
      "source": [
        "criterion = nn.BCEWithLogitsLoss()  # Binary Cross-Entropy Loss\n",
        "optimizer = optim.Adam(model.parameters(), lr=0.001)"
      ],
      "metadata": {
        "id": "wxZg7npCV-Nj"
      },
      "execution_count": 778,
      "outputs": []
    },
    {
      "cell_type": "markdown",
      "source": [
        "# Training loop"
      ],
      "metadata": {
        "id": "hQq-4U2QKLJi"
      }
    },
    {
      "cell_type": "code",
      "source": [
        "num_epochs = 10\n",
        "\n",
        "for epoch in range(num_epochs):\n",
        "    model.train()\n",
        "    total_loss = 0.0\n",
        "\n",
        "    for batch_idx, (images, masks) in enumerate(train_loader):\n",
        "        optimizer.zero_grad()\n",
        "\n",
        "        # Forward pass\n",
        "        outputs = model(images)\n",
        "\n",
        "        # Calculate the loss\n",
        "        loss = criterion(outputs, masks)\n",
        "\n",
        "        # Backpropagation\n",
        "        loss.backward()\n",
        "        optimizer.step()\n",
        "\n",
        "        total_loss += loss.item()\n",
        "\n",
        "    avg_loss = total_loss / len(train_loader)\n",
        "    print(f\"Epoch [{epoch+1}/{num_epochs}] - Loss: {avg_loss:.4f}\")"
      ],
      "metadata": {
        "colab": {
          "base_uri": "https://localhost:8080/"
        },
        "id": "mN6xf68tWHC3",
        "outputId": "b0c4a03c-b850-471f-b210-4dfcd699e0c0"
      },
      "execution_count": 779,
      "outputs": [
        {
          "output_type": "stream",
          "name": "stdout",
          "text": [
            "Epoch [1/10] - Loss: -544334.2264\n",
            "Epoch [2/10] - Loss: -40624948.9934\n",
            "Epoch [3/10] - Loss: -444047801.3015\n",
            "Epoch [4/10] - Loss: -2010362703.2009\n",
            "Epoch [5/10] - Loss: -5924029639.6652\n",
            "Epoch [6/10] - Loss: -13781413158.1875\n",
            "Epoch [7/10] - Loss: -27308383346.5000\n",
            "Epoch [8/10] - Loss: -48534998154.5714\n",
            "Epoch [9/10] - Loss: -79327887600.2857\n",
            "Epoch [10/10] - Loss: -122765452538.2857\n"
          ]
        }
      ]
    },
    {
      "cell_type": "markdown",
      "source": [
        "# Evaluation"
      ],
      "metadata": {
        "id": "Cerczd_qWI1T"
      }
    },
    {
      "cell_type": "code",
      "source": [
        "from sklearn.metrics import jaccard_score\n",
        "\n",
        "# Initialize lists to store evaluation results\n",
        "dice_scores = []\n",
        "jaccard_scores = []\n",
        "\n",
        "# Evaluation loop\n",
        "model.eval()\n",
        "with torch.no_grad():\n",
        "    for batch_idx, (images, masks) in enumerate(test_loader):\n",
        "        # Forward pass\n",
        "        outputs = model(images)\n",
        "\n",
        "        # Calculate the predicted class labels (assuming binary segmentation)\n",
        "        predicted_labels = (outputs > 0.5).float()\n",
        "\n",
        "        # Convert tensors to numpy arrays\n",
        "        predicted_labels = predicted_labels.cpu().numpy()\n",
        "        targets = masks.cpu().numpy()\n",
        "\n",
        "        # Calculate Dice coefficient and Jaccard index for each batch\n",
        "        for i in range(len(predicted_labels)):\n",
        "            intersection = np.logical_and(predicted_labels[i], targets[i])\n",
        "            union = np.logical_or(predicted_labels[i], targets[i])\n",
        "\n",
        "            dice = (2.0 * np.sum(intersection)) / (np.sum(predicted_labels[i]) \\\n",
        "                                                   + np.sum(targets[i]) + 1e-5)\n",
        "            # jaccard = jaccard_score(targets[i].flatten(), predicted_labels[i].flatten())\n",
        "\n",
        "            dice_scores.append(dice)\n",
        "            # jaccard_scores.append(jaccard)\n",
        "\n",
        "# Calculate the average scores\n",
        "avg_dice_score = np.mean(dice_scores)\n",
        "# avg_jaccard_score = np.mean(jaccard_scores)\n",
        "\n",
        "print(f'Average Dice Coefficient: {avg_dice_score}')\n",
        "# print(f'Average Jaccard Index: {avg_jaccard_score}')\n"
      ],
      "metadata": {
        "colab": {
          "base_uri": "https://localhost:8080/"
        },
        "id": "AedGtTb-WK0a",
        "outputId": "bcd8279f-94cf-48a2-fa9b-412b930603d0"
      },
      "execution_count": 782,
      "outputs": [
        {
          "output_type": "stream",
          "name": "stdout",
          "text": [
            "Average Dice Coefficient: 0.0\n"
          ]
        }
      ]
    }
  ]
}