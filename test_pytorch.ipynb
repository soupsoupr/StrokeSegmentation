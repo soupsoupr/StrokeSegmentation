{
  "nbformat": 4,
  "nbformat_minor": 0,
  "metadata": {
    "colab": {
      "provenance": [],
      "toc_visible": true,
      "authorship_tag": "ABX9TyNK3c8jWxkxBkGvUJ75cEUq",
      "include_colab_link": true
    },
    "kernelspec": {
      "name": "python3",
      "display_name": "Python 3"
    },
    "language_info": {
      "name": "python"
    }
  },
  "cells": [
    {
      "cell_type": "markdown",
      "metadata": {
        "id": "view-in-github",
        "colab_type": "text"
      },
      "source": [
        "<a href=\"https://colab.research.google.com/github/soupsoupr/StrokeSegmentation/blob/main/test_pytorch.ipynb\" target=\"_parent\"><img src=\"https://colab.research.google.com/assets/colab-badge.svg\" alt=\"Open In Colab\"/></a>"
      ]
    },
    {
      "cell_type": "markdown",
      "source": [
        "# Load data"
      ],
      "metadata": {
        "id": "o5YeIiPEuBld"
      }
    },
    {
      "cell_type": "code",
      "execution_count": 1,
      "metadata": {
        "colab": {
          "base_uri": "https://localhost:8080/"
        },
        "id": "lZjEERhtty-n",
        "outputId": "6e1048eb-8cd5-4004-e3f7-c52bae3d531e"
      },
      "outputs": [
        {
          "output_type": "stream",
          "name": "stdout",
          "text": [
            "Mounted at /content/drive\n"
          ]
        }
      ],
      "source": [
        "from google.colab import drive\n",
        "drive.mount('/content/drive')"
      ]
    },
    {
      "cell_type": "code",
      "source": [
        "import nibabel as nib\n",
        "import os\n",
        "# Set the file path to the directory containing the DWI data files\n",
        "file_path = '/content/drive/MyDrive/ISLES/dataset-ISLES22^public^unzipped^version'\n",
        "\n",
        "for example_case in range(1,11): # for the first 10 data from ISLES22\n",
        "    # Set images path.\n",
        "    dwi_path = os.path.join(file_path, 'rawdata', 'sub-strokecase{}'.format(\"%04d\" %example_case), 'ses-0001',\n",
        "                            'sub-strokecase{}_ses-0001_dwi.nii.gz'.format(\"%04d\" %example_case))\n",
        "    mask_path = dwi_path.replace('rawdata', 'derivatives').replace('dwi', 'msk')\n",
        "\n",
        "# Load image data.\n",
        "dwi_data = []\n",
        "mask_data = []\n",
        "\n",
        "dwi_data = nib.load(dwi_path).get_fdata()\n",
        "mask_data = nib.load(mask_path).get_fdata()"
      ],
      "metadata": {
        "id": "FS2vQ0GpuFu3"
      },
      "execution_count": 2,
      "outputs": []
    },
    {
      "cell_type": "code",
      "source": [
        "import numpy as np\n",
        "import cv2\n",
        "\n",
        "# Duplicate both dwi and label data into two new lists for future process\n",
        "data_paths = []\n",
        "mask_paths = []\n",
        "\n",
        "for i in dwi_data:\n",
        "    data_paths.append(i)\n",
        "\n",
        "for i in mask_data:\n",
        "    mask_paths.append(i)"
      ],
      "metadata": {
        "id": "MPtFZHvjHtbf"
      },
      "execution_count": 3,
      "outputs": []
    },
    {
      "cell_type": "markdown",
      "source": [
        "# Define framework"
      ],
      "metadata": {
        "id": "LSbYIMuy1axE"
      }
    },
    {
      "cell_type": "code",
      "source": [
        "from PIL import Image\n",
        "from matplotlib import pyplot as plt\n",
        "\n",
        "import torch\n",
        "import torch.nn as nn\n",
        "import torch.nn.functional as F\n",
        "from torch.utils.data import Dataset, DataLoader\n",
        "from torchvision import transforms"
      ],
      "metadata": {
        "id": "MJW_EjzWwmke"
      },
      "execution_count": 4,
      "outputs": []
    },
    {
      "cell_type": "code",
      "source": [
        "class CustomDataset(Dataset):\n",
        "    def __init__ (self, img, mask, transformer):\n",
        "        self.img = img\n",
        "        self.mask = mask\n",
        "        self.transformer = transformer\n",
        "\n",
        "    def __len__ (self):\n",
        "        return len(self.img)\n",
        "\n",
        "    def __getitem__ (self, index):\n",
        "        img = self.img[index]\n",
        "        mask = self.mask[index]\n",
        "\n",
        "        img_open = Image.fromarray(img)\n",
        "        img_tensor = self.transformer(img_open)\n",
        "\n",
        "        mask_open = Image.fromarray(mask)\n",
        "        mask_tensor = self.transformer(mask_open)\n",
        "\n",
        "        mask_tensor = torch.squeeze(mask_tensor).type(torch.long)\n",
        "\n",
        "        return img_tensor, mask_tensor"
      ],
      "metadata": {
        "id": "1JBo1TJ11hRq"
      },
      "execution_count": 5,
      "outputs": []
    },
    {
      "cell_type": "code",
      "source": [
        "train_transformer = transforms.Compose([\n",
        "    transforms.Resize((256,256)),\n",
        "    transforms.ToTensor()\n",
        "])\n",
        "\n",
        "test_transformer = transforms.Compose([\n",
        "    transforms.Resize((256,256)),\n",
        "    transforms.ToTensor()\n",
        "])"
      ],
      "metadata": {
        "id": "43VKTVHtxfbh"
      },
      "execution_count": 6,
      "outputs": []
    },
    {
      "cell_type": "code",
      "source": [
        "sample = 100\n",
        "train_data = data_paths[:sample]\n",
        "train_label = mask_paths[:sample]\n",
        "\n",
        "test_data = data_paths[sample:]\n",
        "test_label = mask_paths[sample:]"
      ],
      "metadata": {
        "id": "UcK2JOZx9LE-"
      },
      "execution_count": 7,
      "outputs": []
    },
    {
      "cell_type": "code",
      "source": [
        "# Train and test sets initalization\n",
        "train_data = CustomDataset(train_data, train_label, train_transformer)\n",
        "test_data = CustomDataset(test_data, test_label, test_transformer)"
      ],
      "metadata": {
        "id": "o25fzc2N9AFD"
      },
      "execution_count": 8,
      "outputs": []
    },
    {
      "cell_type": "code",
      "source": [
        "# Train and test set data loaders initalization\n",
        "train_loader = DataLoader(train_data, batch_size=8, shuffle=True)\n",
        "test_loader = DataLoader(test_data, batch_size=8, shuffle=True)"
      ],
      "metadata": {
        "id": "H7JHXFUP-PjD"
      },
      "execution_count": 9,
      "outputs": []
    },
    {
      "cell_type": "code",
      "source": [
        "data, label = next(iter(train_loader))\n",
        "plt.figure(figsize=(12,8))\n",
        "for i, (data, label) in enumerate(zip(data[:4], label[:4])):\n",
        "    data = data.permute(1,2,0).numpy()\n",
        "    label = label.numpy()\n",
        "    plt.subplot(2,4,i+1)\n",
        "    plt.imshow(data)\n",
        "    plt.subplot(2,4,i+5)\n",
        "    plt.imshow(label)"
      ],
      "metadata": {
        "id": "VO6AnsPlLAL5",
        "colab": {
          "base_uri": "https://localhost:8080/",
          "height": 604
        },
        "outputId": "4a74e53f-bb0d-4d17-e7ea-143f6de2ee36"
      },
      "execution_count": 10,
      "outputs": [
        {
          "output_type": "display_data",
          "data": {
            "text/plain": [
              "<Figure size 1200x800 with 8 Axes>"
            ],
            "image/png": "[encoded data removed]"
          },
          "metadata": {}
        }
      ]
    },
    {
      "cell_type": "markdown",
      "source": [
        "# U-net down convolution"
      ],
      "metadata": {
        "id": "uMUYfnfM8dES"
      }
    },
    {
      "cell_type": "code",
      "source": [
        "class Encoder(nn.Module):\n",
        "    def __init__ (self, in_channels, out_channels):\n",
        "        super(Encoder, self).__init__()\n",
        "        self.conv_relu = nn.Sequential(\n",
        "            nn.Conv2d(in_channels, out_channels, kernel_size=3, padding=1),\n",
        "            nn.ReLU(inplace=True),\n",
        "            nn.Conv2d(out_channels, out_channels, kernel_size=3, padding=1),\n",
        "            nn.ReLU(inplace=True)\n",
        "        )\n",
        "        self.maxpool = nn.MaxPool2d(kernel_size=2, stride=2)\n",
        "\n",
        "    def forward(self, x, if_pool=True):\n",
        "        if if_pool:\n",
        "            x = self.maxpool(x)\n",
        "        x = self.conv_relu(x)\n",
        "        return x"
      ],
      "metadata": {
        "id": "uzHTvgIN8vMs"
      },
      "execution_count": 30,
      "outputs": []
    },
    {
      "cell_type": "markdown",
      "source": [
        "# U-net up convolution"
      ],
      "metadata": {
        "id": "RRM_KMX5989U"
      }
    },
    {
      "cell_type": "code",
      "source": [
        "class Decoder(nn.Module):\n",
        "    def __init__ (self, channels):\n",
        "        super(Decoder, self).__init__()\n",
        "        self.conv_relu = nn.Sequential(\n",
        "            nn.Conv2d(2*channels, channels, kernel_size=3, padding=1),\n",
        "            nn.ReLU(inplace=True),\n",
        "            nn.Conv2d(channels, channels, kernel_size=3, padding=1),\n",
        "            nn.ReLU(inplace=True)\n",
        "        )\n",
        "        self.upconv_relu = nn.Sequential(\n",
        "            nn.ConvTranspose2d(channels, channels//2, kernel_size=3, stride=3, padding=1, output_padding=1),\n",
        "            nn.ReLU(inplace=True)\n",
        "        )\n",
        "\n",
        "    def forward(self, x):\n",
        "        x = self.conv_relu(x)\n",
        "        x = self.upconv_relu(x)\n",
        "        return x\n",
        "\n"
      ],
      "metadata": {
        "id": "bOQriDh5-ABc"
      },
      "execution_count": 27,
      "outputs": []
    },
    {
      "cell_type": "markdown",
      "source": [
        "# U-net constrution for segmentation"
      ],
      "metadata": {
        "id": "yGcjYKdyv4wI"
      }
    },
    {
      "cell_type": "code",
      "source": [
        "class Unet(nn.Module):\n",
        "    def __init__ (self):\n",
        "        super(Unet, self).__init__()\n",
        "        self.encoder1 = Encoder(3, 64)\n",
        "        self.encoder2 = Encoder(64, 128)\n",
        "        self.encoder3 = Encoder(128, 256)\n",
        "        self.encoder4 = Encoder(256, 512)\n",
        "        self.encoder5 = Encoder(512, 1024)\n",
        "\n",
        "        self.upconv_relu = nn.Sequential(\n",
        "            nn.ConvTranspose2d(1024, 512, kernel_size=3, stride=2, padding=1, output_padding=1),\n",
        "            nn.ReLU(inplace=True)\n",
        "        )\n",
        "\n",
        "        self.decoder1 = Decoder(512)\n",
        "        self.decoder2 = Decoder(256)\n",
        "        self.decoder3 = Decoder(128)\n",
        "\n",
        "        self.convDouble = nn.Sequential(\n",
        "            nn.Conv2d(128, 64, kernel_size=3, padding=1),\n",
        "            nn.ReLU(inplace=True),\n",
        "            nn.Conv2d(64, 64, kernel_size=3, padding=1),\n",
        "            nn.ReLU(inplace=True)\n",
        "        )\n",
        "\n",
        "        self.last = nn.Conv2d(64, 2, kernel_size=1)\n",
        "\n",
        "    def forward(self, x):\n",
        "        x1 = self.encoder1(x, if_pool=False)\n",
        "        x2 = self.encoder2(x1)\n",
        "        x3 = self.encoder3(x2)\n",
        "        x4 = self.encoder4(x3)\n",
        "        x5 = self.encoder5(x4)\n",
        "\n",
        "        x5 = self.upconv_relu(x5)\n",
        "\n",
        "        x5 = torch.cat([x4,x5], dim=1)\n",
        "        x5 = self.decoder1(x5)\n",
        "        x5 = torch.cat([x3,x5], dim=1)\n",
        "        x5 = self.decoder2(x5)\n",
        "        x5 = torch.cat([x2,x5], dim=1)\n",
        "        x5 = self.decoder3(x5)\n",
        "        x5 = torch.cat([x1,x5], dim=1)\n",
        "\n",
        "        x5 = self.convDouble(x5)\n",
        "        x5 = self.last(x5)\n",
        "\n",
        "        return x5"
      ],
      "metadata": {
        "id": "inJ1Hri_wsHS"
      },
      "execution_count": 28,
      "outputs": []
    },
    {
      "cell_type": "code",
      "source": [
        "model = Unet()\n",
        "model"
      ],
      "metadata": {
        "colab": {
          "base_uri": "https://localhost:8080/"
        },
        "id": "CbL8sWZ50gnW",
        "outputId": "1d2f7f1d-7801-4737-ed80-44271bc222ee"
      },
      "execution_count": 31,
      "outputs": [
        {
          "output_type": "execute_result",
          "data": {
            "text/plain": [
              "Unet(\n",
              "  (encoder1): Encoder(\n",
              "    (conv_relu): Sequential(\n",
              "      (0): Conv2d(3, 64, kernel_size=(3, 3), stride=(1, 1), padding=(1, 1))\n",
              "      (1): ReLU(inplace=True)\n",
              "      (2): Conv2d(64, 64, kernel_size=(3, 3), stride=(1, 1), padding=(1, 1))\n",
              "      (3): ReLU(inplace=True)\n",
              "    )\n",
              "    (maxpool): MaxPool2d(kernel_size=2, stride=2, padding=0, dilation=1, ceil_mode=False)\n",
              "  )\n",
              "  (encoder2): Encoder(\n",
              "    (conv_relu): Sequential(\n",
              "      (0): Conv2d(64, 128, kernel_size=(3, 3), stride=(1, 1), padding=(1, 1))\n",
              "      (1): ReLU(inplace=True)\n",
              "      (2): Conv2d(128, 128, kernel_size=(3, 3), stride=(1, 1), padding=(1, 1))\n",
              "      (3): ReLU(inplace=True)\n",
              "    )\n",
              "    (maxpool): MaxPool2d(kernel_size=2, stride=2, padding=0, dilation=1, ceil_mode=False)\n",
              "  )\n",
              "  (encoder3): Encoder(\n",
              "    (conv_relu): Sequential(\n",
              "      (0): Conv2d(128, 256, kernel_size=(3, 3), stride=(1, 1), padding=(1, 1))\n",
              "      (1): ReLU(inplace=True)\n",
              "      (2): Conv2d(256, 256, kernel_size=(3, 3), stride=(1, 1), padding=(1, 1))\n",
              "      (3): ReLU(inplace=True)\n",
              "    )\n",
              "    (maxpool): MaxPool2d(kernel_size=2, stride=2, padding=0, dilation=1, ceil_mode=False)\n",
              "  )\n",
              "  (encoder4): Encoder(\n",
              "    (conv_relu): Sequential(\n",
              "      (0): Conv2d(256, 512, kernel_size=(3, 3), stride=(1, 1), padding=(1, 1))\n",
              "      (1): ReLU(inplace=True)\n",
              "      (2): Conv2d(512, 512, kernel_size=(3, 3), stride=(1, 1), padding=(1, 1))\n",
              "      (3): ReLU(inplace=True)\n",
              "    )\n",
              "    (maxpool): MaxPool2d(kernel_size=2, stride=2, padding=0, dilation=1, ceil_mode=False)\n",
              "  )\n",
              "  (encoder5): Encoder(\n",
              "    (conv_relu): Sequential(\n",
              "      (0): Conv2d(512, 1024, kernel_size=(3, 3), stride=(1, 1), padding=(1, 1))\n",
              "      (1): ReLU(inplace=True)\n",
              "      (2): Conv2d(1024, 1024, kernel_size=(3, 3), stride=(1, 1), padding=(1, 1))\n",
              "      (3): ReLU(inplace=True)\n",
              "    )\n",
              "    (maxpool): MaxPool2d(kernel_size=2, stride=2, padding=0, dilation=1, ceil_mode=False)\n",
              "  )\n",
              "  (upconv_relu): Sequential(\n",
              "    (0): ConvTranspose2d(1024, 512, kernel_size=(3, 3), stride=(2, 2), padding=(1, 1), output_padding=(1, 1))\n",
              "    (1): ReLU(inplace=True)\n",
              "  )\n",
              "  (decoder1): Decoder(\n",
              "    (conv_relu): Sequential(\n",
              "      (0): Conv2d(1024, 512, kernel_size=(3, 3), stride=(1, 1), padding=(1, 1))\n",
              "      (1): ReLU(inplace=True)\n",
              "      (2): Conv2d(512, 512, kernel_size=(3, 3), stride=(1, 1), padding=(1, 1))\n",
              "      (3): ReLU(inplace=True)\n",
              "    )\n",
              "    (upconv_relu): Sequential(\n",
              "      (0): ConvTranspose2d(512, 256, kernel_size=(3, 3), stride=(3, 3), padding=(1, 1), output_padding=(1, 1))\n",
              "      (1): ReLU(inplace=True)\n",
              "    )\n",
              "  )\n",
              "  (decoder2): Decoder(\n",
              "    (conv_relu): Sequential(\n",
              "      (0): Conv2d(512, 256, kernel_size=(3, 3), stride=(1, 1), padding=(1, 1))\n",
              "      (1): ReLU(inplace=True)\n",
              "      (2): Conv2d(256, 256, kernel_size=(3, 3), stride=(1, 1), padding=(1, 1))\n",
              "      (3): ReLU(inplace=True)\n",
              "    )\n",
              "    (upconv_relu): Sequential(\n",
              "      (0): ConvTranspose2d(256, 128, kernel_size=(3, 3), stride=(3, 3), padding=(1, 1), output_padding=(1, 1))\n",
              "      (1): ReLU(inplace=True)\n",
              "    )\n",
              "  )\n",
              "  (decoder3): Decoder(\n",
              "    (conv_relu): Sequential(\n",
              "      (0): Conv2d(256, 128, kernel_size=(3, 3), stride=(1, 1), padding=(1, 1))\n",
              "      (1): ReLU(inplace=True)\n",
              "      (2): Conv2d(128, 128, kernel_size=(3, 3), stride=(1, 1), padding=(1, 1))\n",
              "      (3): ReLU(inplace=True)\n",
              "    )\n",
              "    (upconv_relu): Sequential(\n",
              "      (0): ConvTranspose2d(128, 64, kernel_size=(3, 3), stride=(3, 3), padding=(1, 1), output_padding=(1, 1))\n",
              "      (1): ReLU(inplace=True)\n",
              "    )\n",
              "  )\n",
              "  (convDouble): Sequential(\n",
              "    (0): Conv2d(128, 64, kernel_size=(3, 3), stride=(1, 1), padding=(1, 1))\n",
              "    (1): ReLU(inplace=True)\n",
              "    (2): Conv2d(64, 64, kernel_size=(3, 3), stride=(1, 1), padding=(1, 1))\n",
              "    (3): ReLU(inplace=True)\n",
              "  )\n",
              "  (last): Conv2d(64, 2, kernel_size=(1, 1), stride=(1, 1))\n",
              ")"
            ]
          },
          "metadata": {},
          "execution_count": 31
        }
      ]
    },
    {
      "cell_type": "code",
      "source": [
        "img, label = next(iter(train_loader))\n",
        "pred = model(img)\n",
        "pred.shape"
      ],
      "metadata": {
        "id": "hxw93f3W13dC"
      },
      "execution_count": null,
      "outputs": []
    }
  ]
}