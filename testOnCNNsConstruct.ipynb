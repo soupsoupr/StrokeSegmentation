{
  "nbformat": 4,
  "nbformat_minor": 0,
  "metadata": {
    "colab": {
      "provenance": [],
      "toc_visible": true,
      "authorship_tag": "ABX9TyM/WJqkFWdHJr9+wV7QE8om",
      "include_colab_link": true
    },
    "kernelspec": {
      "name": "python3",
      "display_name": "Python 3"
    },
    "language_info": {
      "name": "python"
    }
  },
  "cells": [
    {
      "cell_type": "markdown",
      "metadata": {
        "id": "view-in-github",
        "colab_type": "text"
      },
      "source": [
        "<a href=\"https://colab.research.google.com/github/soupsoupr/StrokeSegmentation/blob/main/testOnCNNsConstruct.ipynb\" target=\"_parent\"><img src=\"https://colab.research.google.com/assets/colab-badge.svg\" alt=\"Open In Colab\"/></a>"
      ]
    },
    {
      "cell_type": "markdown",
      "source": [
        "# Load data"
      ],
      "metadata": {
        "id": "1JksEfYR7IQ4"
      }
    },
    {
      "cell_type": "code",
      "source": [
        "from google.colab import drive\n",
        "drive.mount('/content/drive')"
      ],
      "metadata": {
        "colab": {
          "base_uri": "https://localhost:8080/"
        },
        "id": "dchT8Plc-1AG",
        "outputId": "82bb9800-6137-44f9-b3d6-aa09aa95bfcb"
      },
      "execution_count": null,
      "outputs": [
        {
          "output_type": "stream",
          "name": "stdout",
          "text": [
            "Drive already mounted at /content/drive; to attempt to forcibly remount, call drive.mount(\"/content/drive\", force_remount=True).\n"
          ]
        }
      ]
    },
    {
      "cell_type": "code",
      "source": [
        "import nibabel as nib\n",
        "import os\n",
        "# Set the file path to the directory containing the DWI data files\n",
        "file_path = '/content/drive/MyDrive/ISLES/dataset-ISLES22^public^unzipped^version'\n",
        "\n",
        "for example_case in range(1,11):\n",
        "    # Set images path.\n",
        "    dwi_path = os.path.join(file_path, 'rawdata', 'sub-strokecase{}'.format(\"%04d\" %example_case), 'ses-0001', \n",
        "                            'sub-strokecase{}_ses-0001_dwi.nii.gz'.format(\"%04d\" %example_case))\n",
        "    mask_path = dwi_path.replace('rawdata', 'derivatives').replace('dwi', 'msk')\n",
        "\n",
        "# Load image data.\n",
        "dwi_data = []\n",
        "mask_data = []\n",
        "\n",
        "dwi_image = nib.load(dwi_path).get_fdata()\n",
        "mask_image = nib.load(mask_path).get_fdata()"
      ],
      "metadata": {
        "id": "69INQuIwNfSA"
      },
      "execution_count": null,
      "outputs": []
    },
    {
      "cell_type": "markdown",
      "source": [
        "# Get the shape of the DWI data from input shape construction"
      ],
      "metadata": {
        "id": "qcUK2ypUi_xx"
      }
    },
    {
      "cell_type": "code",
      "source": [
        "# print the shape of the DWI data and the number of b-values/b-vectors\n",
        "for i in range(1,11):\n",
        "    print('DWI data shape:', dwi_image[i].shape)"
      ],
      "metadata": {
        "id": "k-ZD9b_yEXdy"
      },
      "execution_count": null,
      "outputs": []
    },
    {
      "cell_type": "markdown",
      "source": [
        "# Split DWI data into train and test set"
      ],
      "metadata": {
        "id": "86SUEyWRjLln"
      }
    },
    {
      "cell_type": "code",
      "source": [
        "# Split the data into training and testing sets\n",
        "from sklearn.model_selection import train_test_split\n",
        "train_data, test_data, train_labels, test_labels = train_test_split(dwi_image, mask_image, test_size=0.2, random_state=42)\n"
      ],
      "metadata": {
        "id": "ve-BZ3PpB-G7"
      },
      "execution_count": null,
      "outputs": []
    },
    {
      "cell_type": "markdown",
      "source": [
        "# Construction CNNs model"
      ],
      "metadata": {
        "id": "-u_0qhSkjW7Q"
      }
    },
    {
      "cell_type": "code",
      "source": [
        "import numpy as np\n",
        "import matplotlib.pyplot as plt\n",
        "import tensorflow as tf\n",
        "from tensorflow.keras.models import Sequential\n",
        "from tensorflow.keras.layers import Conv2D, MaxPooling2D, Flatten, Dense, Dropout"
      ],
      "metadata": {
        "id": "eHOX2Uu-C9eE"
      },
      "execution_count": null,
      "outputs": []
    },
    {
      "cell_type": "code",
      "source": [
        "# Reshape the data to be suitable for a CNN model\n",
        "train_data = train_data.reshape((112, 72, 1))\n",
        "test_data = test_data.reshape((112, 72, 1))\n",
        "\n",
        "# Define the input shape\n",
        "input_shape = train_data[0].shape"
      ],
      "metadata": {
        "id": "iY1mlh6QB-Eo"
      },
      "execution_count": null,
      "outputs": []
    },
    {
      "cell_type": "code",
      "source": [
        "# Define the input shape\n",
        "input_shape = train_data[0].shape\n",
        "\n",
        "# Define the model architecture\n",
        "model = Sequential()\n",
        "\n",
        "model.add(Conv2D(32, (3,3), activation='relu', input_shape=input_shape, padding='same'))\n",
        "model.add(MaxPooling2D((2,2)))\n",
        "model.add(Dropout(0.2))\n",
        "\n",
        "model.add(Conv2D(64, (3,3), activation='relu'))\n",
        "model.add(MaxPooling2D((2,2)))\n",
        "model.add(Dropout(0.2))\n",
        "\n",
        "model.add(Conv2D(128, (3,3), activation='relu'))\n",
        "model.add(MaxPooling2D((2,2)))\n",
        "model.add(Dropout(0.2))\n",
        "\n",
        "model.add(Flatten())\n",
        "\n",
        "model.add(Dense(64, activation='relu'))\n",
        "model.add(Dropout(0.5))\n",
        "\n",
        "model.add(Dense(1, activation='sigmoid'))"
      ],
      "metadata": {
        "id": "SBf4Mdg8C2Nd"
      },
      "execution_count": null,
      "outputs": []
    }
  ]
}