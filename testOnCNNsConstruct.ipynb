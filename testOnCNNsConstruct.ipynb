{
  "nbformat": 4,
  "nbformat_minor": 0,
  "metadata": {
    "colab": {
      "provenance": [],
      "toc_visible": true,
      "authorship_tag": "ABX9TyOMKunLZei7oewctO1ObEs3",
      "include_colab_link": true
    },
    "kernelspec": {
      "name": "python3",
      "display_name": "Python 3"
    },
    "language_info": {
      "name": "python"
    }
  },
  "cells": [
    {
      "cell_type": "markdown",
      "metadata": {
        "id": "view-in-github",
        "colab_type": "text"
      },
      "source": [
        "<a href=\"https://colab.research.google.com/github/soupsoupr/StrokeSegmentation/blob/main/testOnCNNsConstruct.ipynb\" target=\"_parent\"><img src=\"https://colab.research.google.com/assets/colab-badge.svg\" alt=\"Open In Colab\"/></a>"
      ]
    },
    {
      "cell_type": "markdown",
      "source": [
        "# Load data"
      ],
      "metadata": {
        "id": "1JksEfYR7IQ4"
      }
    },
    {
      "cell_type": "code",
      "source": [
        "from google.colab import drive\n",
        "drive.mount('/content/drive')"
      ],
      "metadata": {
        "id": "dchT8Plc-1AG",
        "colab": {
          "base_uri": "https://localhost:8080/"
        },
        "outputId": "23772426-6efb-46f7-f411-1f41fbaf5c6a"
      },
      "execution_count": 55,
      "outputs": [
        {
          "output_type": "stream",
          "name": "stdout",
          "text": [
            "Drive already mounted at /content/drive; to attempt to forcibly remount, call drive.mount(\"/content/drive\", force_remount=True).\n"
          ]
        }
      ]
    },
    {
      "cell_type": "code",
      "source": [
        "import nibabel as nib\n",
        "import os\n",
        "# Set the file path to the directory containing the DWI data files\n",
        "file_path = '/content/drive/MyDrive/ISLES/dataset-ISLES22^public^unzipped^version'\n",
        "\n",
        "for example_case in range(1,11): # for the first 10 data from ISLES22\n",
        "    # Set images path.\n",
        "    dwi_path = os.path.join(file_path, 'rawdata', 'sub-strokecase{}'.format(\"%04d\" %example_case), 'ses-0001', \n",
        "                            'sub-strokecase{}_ses-0001_dwi.nii.gz'.format(\"%04d\" %example_case))\n",
        "    mask_path = dwi_path.replace('rawdata', 'derivatives').replace('dwi', 'msk')\n",
        "\n",
        "# Load image data.\n",
        "dwi_data = []\n",
        "mask_data = []\n",
        "\n",
        "dwi_data = nib.load(dwi_path).get_fdata()\n",
        "mask_data = nib.load(mask_path).get_fdata()"
      ],
      "metadata": {
        "id": "69INQuIwNfSA"
      },
      "execution_count": 60,
      "outputs": []
    },
    {
      "cell_type": "code",
      "source": [
        "print(dwi_data.shape)\n",
        "print(mask_data.shape) "
      ],
      "metadata": {
        "id": "LWSs6lrdmV9m"
      },
      "execution_count": null,
      "outputs": []
    },
    {
      "cell_type": "markdown",
      "source": [
        "# Construction CNNs model"
      ],
      "metadata": {
        "id": "-u_0qhSkjW7Q"
      }
    },
    {
      "cell_type": "markdown",
      "source": [
        "## Imports"
      ],
      "metadata": {
        "id": "V_XpmvI0nQD4"
      }
    },
    {
      "cell_type": "code",
      "source": [
        "import numpy as np\n",
        "import matplotlib.pyplot as plt\n",
        "from tensorflow import keras\n",
        "from keras.models import Sequential\n",
        "from keras.layers import Conv2D, MaxPooling2D, Flatten, Dense, Dropout"
      ],
      "metadata": {
        "id": "eHOX2Uu-C9eE"
      },
      "execution_count": 57,
      "outputs": []
    },
    {
      "cell_type": "markdown",
      "source": [
        "## Reshape dwi data"
      ],
      "metadata": {
        "id": "K-9drWCQmRQv"
      }
    },
    {
      "cell_type": "code",
      "source": [
        "# Reshape the data to be suitable for a CNN model\n",
        "dwi_data = np.reshape(dwi_data, (112, 112, 72, 1))\n",
        "mask_data = np.reshape(mask_data, (112, 112, 72, 1)) "
      ],
      "metadata": {
        "id": "iY1mlh6QB-Eo"
      },
      "execution_count": null,
      "outputs": []
    },
    {
      "cell_type": "markdown",
      "source": [
        "## Split DWI data into train and test set"
      ],
      "metadata": {
        "id": "86SUEyWRjLln"
      }
    },
    {
      "cell_type": "code",
      "source": [
        "# Split the data into training and testing sets\n",
        "from sklearn.model_selection import train_test_split\n",
        "train_data, test_data, train_labels, test_labels = train_test_split(dwi_data, mask_data, test_size=0.2, random_state=42) "
      ],
      "metadata": {
        "id": "ve-BZ3PpB-G7"
      },
      "execution_count": null,
      "outputs": []
    },
    {
      "cell_type": "markdown",
      "source": [
        "## Define input shape"
      ],
      "metadata": {
        "id": "W8F8ms_sk6Kq"
      }
    },
    {
      "cell_type": "code",
      "source": [
        "# Define the input shape\n",
        "input_shape = train_data.shape\n",
        "\n",
        "print(input_shape) "
      ],
      "metadata": {
        "id": "t8RzV3--k5lU"
      },
      "execution_count": null,
      "outputs": []
    },
    {
      "cell_type": "markdown",
      "source": [
        "## Define the model architecture"
      ],
      "metadata": {
        "id": "pik2Tl4hm5vh"
      }
    },
    {
      "cell_type": "code",
      "source": [
        "# Define the model architecture\n",
        "model = Sequential()\n",
        "\n",
        "model.add(Conv2D(32, (3,3), activation='relu', input_shape=(112, 112, 72)))\n",
        "model.add(MaxPooling2D((2,2)))\n",
        "model.add(Dropout(0.2))\n",
        "\n",
        "model.add(Conv2D(64, (3,3), activation='relu'))\n",
        "model.add(MaxPooling2D((2,2)))\n",
        "model.add(Dropout(0.2))\n",
        "\n",
        "model.add(Conv2D(128, (3,3), activation='relu'))\n",
        "model.add(MaxPooling2D((2,2)))\n",
        "model.add(Dropout(0.2))\n",
        "\n",
        "model.add(Flatten())\n",
        "\n",
        "model.add(Dense(64, activation='relu'))\n",
        "model.add(Dropout(0.5))\n",
        "\n",
        "model.add(Dense(1, activation='sigmoid'))"
      ],
      "metadata": {
        "id": "SBf4Mdg8C2Nd"
      },
      "execution_count": 61,
      "outputs": []
    },
    {
      "cell_type": "markdown",
      "source": [
        "## Complie the model"
      ],
      "metadata": {
        "id": "g2892cK0nD5i"
      }
    },
    {
      "cell_type": "code",
      "source": [
        "# Compile the model\n",
        "model.compile(optimizer='adam', loss='binary_crossentropy', metrics=['accuracy'])\n",
        "model.summary()"
      ],
      "metadata": {
        "id": "H2NsraCBmyOL",
        "colab": {
          "base_uri": "https://localhost:8080/"
        },
        "outputId": "00d2e23d-2d6f-4397-9904-0ae181a32391"
      },
      "execution_count": 62,
      "outputs": [
        {
          "output_type": "stream",
          "name": "stdout",
          "text": [
            "Model: \"sequential_10\"\n",
            "_________________________________________________________________\n",
            " Layer (type)                Output Shape              Param #   \n",
            "=================================================================\n",
            " conv2d_20 (Conv2D)          (None, 110, 110, 32)      20768     \n",
            "                                                                 \n",
            " max_pooling2d_20 (MaxPoolin  (None, 55, 55, 32)       0         \n",
            " g2D)                                                            \n",
            "                                                                 \n",
            " dropout_20 (Dropout)        (None, 55, 55, 32)        0         \n",
            "                                                                 \n",
            " conv2d_21 (Conv2D)          (None, 53, 53, 64)        18496     \n",
            "                                                                 \n",
            " max_pooling2d_21 (MaxPoolin  (None, 26, 26, 64)       0         \n",
            " g2D)                                                            \n",
            "                                                                 \n",
            " dropout_21 (Dropout)        (None, 26, 26, 64)        0         \n",
            "                                                                 \n",
            " conv2d_22 (Conv2D)          (None, 24, 24, 128)       73856     \n",
            "                                                                 \n",
            " max_pooling2d_22 (MaxPoolin  (None, 12, 12, 128)      0         \n",
            " g2D)                                                            \n",
            "                                                                 \n",
            " dropout_22 (Dropout)        (None, 12, 12, 128)       0         \n",
            "                                                                 \n",
            " flatten_5 (Flatten)         (None, 18432)             0         \n",
            "                                                                 \n",
            " dense_10 (Dense)            (None, 64)                1179712   \n",
            "                                                                 \n",
            " dropout_23 (Dropout)        (None, 64)                0         \n",
            "                                                                 \n",
            " dense_11 (Dense)            (None, 1)                 65        \n",
            "                                                                 \n",
            "=================================================================\n",
            "Total params: 1,292,897\n",
            "Trainable params: 1,292,897\n",
            "Non-trainable params: 0\n",
            "_________________________________________________________________\n"
          ]
        }
      ]
    },
    {
      "cell_type": "markdown",
      "source": [
        "## Train the model"
      ],
      "metadata": {
        "id": "he2ZO5MTnWDy"
      }
    },
    {
      "cell_type": "code",
      "source": [
        "# Train the model\n",
        "model.fit(x=train_data, y=train_labels, epochs=5, batch_size=16, validation_split=0.2)"
      ],
      "metadata": {
        "id": "gbEc1otknT0N"
      },
      "execution_count": null,
      "outputs": []
    }
  ]
}